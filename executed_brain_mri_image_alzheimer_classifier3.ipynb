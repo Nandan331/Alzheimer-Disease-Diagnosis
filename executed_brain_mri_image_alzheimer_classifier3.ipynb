{
  "cells": [
    {
      "cell_type": "code",
      "source": [
        "!pip install kaggle"
      ],
      "metadata": {
        "colab": {
          "base_uri": "https://localhost:8080/"
        },
        "id": "pHvT7c7wpDEP",
        "outputId": "0d0e56a8-141a-464f-8e70-b591911ae397"
      },
      "id": "pHvT7c7wpDEP",
      "execution_count": null,
      "outputs": [
        {
          "output_type": "stream",
          "name": "stdout",
          "text": [
            "Requirement already satisfied: kaggle in /usr/local/lib/python3.10/dist-packages (1.5.16)\n",
            "Requirement already satisfied: six>=1.10 in /usr/local/lib/python3.10/dist-packages (from kaggle) (1.16.0)\n",
            "Requirement already satisfied: certifi in /usr/local/lib/python3.10/dist-packages (from kaggle) (2023.7.22)\n",
            "Requirement already satisfied: python-dateutil in /usr/local/lib/python3.10/dist-packages (from kaggle) (2.8.2)\n",
            "Requirement already satisfied: requests in /usr/local/lib/python3.10/dist-packages (from kaggle) (2.31.0)\n",
            "Requirement already satisfied: tqdm in /usr/local/lib/python3.10/dist-packages (from kaggle) (4.66.1)\n",
            "Requirement already satisfied: python-slugify in /usr/local/lib/python3.10/dist-packages (from kaggle) (8.0.1)\n",
            "Requirement already satisfied: urllib3 in /usr/local/lib/python3.10/dist-packages (from kaggle) (2.0.6)\n",
            "Requirement already satisfied: bleach in /usr/local/lib/python3.10/dist-packages (from kaggle) (6.0.0)\n",
            "Requirement already satisfied: webencodings in /usr/local/lib/python3.10/dist-packages (from bleach->kaggle) (0.5.1)\n",
            "Requirement already satisfied: text-unidecode>=1.3 in /usr/local/lib/python3.10/dist-packages (from python-slugify->kaggle) (1.3)\n",
            "Requirement already satisfied: charset-normalizer<4,>=2 in /usr/local/lib/python3.10/dist-packages (from requests->kaggle) (3.3.0)\n",
            "Requirement already satisfied: idna<4,>=2.5 in /usr/local/lib/python3.10/dist-packages (from requests->kaggle) (3.4)\n"
          ]
        }
      ]
    },
    {
      "cell_type": "code",
      "source": [
        "import json\n",
        "import zipfile\n",
        "import os\n",
        "from google.colab import files\n",
        "\n",
        "uploaded = files.upload()\n",
        "\n",
        "for fn in uploaded.keys():\n",
        "  print('User uploaded file \"{name}\" with length {length} bytes'.format(\n",
        "      name=fn, length=len(uploaded[fn])))\n",
        "\n",
        "# Then move kaggle.json into the folder where the API expects to find it.\n",
        "!mkdir -p ~/.kaggle/ && mv kaggle.json ~/.kaggle/ && chmod 600 ~/.kaggle/kaggle.json\n",
        "#Your respective Kaggle API token must be uploaded"
      ],
      "metadata": {
        "colab": {
          "base_uri": "https://localhost:8080/",
          "height": 90
        },
        "id": "sl7x2zB_pVX4",
        "outputId": "fb881a85-e629-4c30-abcb-d8c41b0a4a9c"
      },
      "id": "sl7x2zB_pVX4",
      "execution_count": null,
      "outputs": [
        {
          "output_type": "display_data",
          "data": {
            "text/plain": [
              "<IPython.core.display.HTML object>"
            ],
            "text/html": [
              "\n",
              "     <input type=\"file\" id=\"files-9a6e391d-c987-45ff-9614-e6cc93b53f54\" name=\"files[]\" multiple disabled\n",
              "        style=\"border:none\" />\n",
              "     <output id=\"result-9a6e391d-c987-45ff-9614-e6cc93b53f54\">\n",
              "      Upload widget is only available when the cell has been executed in the\n",
              "      current browser session. Please rerun this cell to enable.\n",
              "      </output>\n",
              "      <script>// Copyright 2017 Google LLC\n",
              "//\n",
              "// Licensed under the Apache License, Version 2.0 (the \"License\");\n",
              "// you may not use this file except in compliance with the License.\n",
              "// You may obtain a copy of the License at\n",
              "//\n",
              "//      http://www.apache.org/licenses/LICENSE-2.0\n",
              "//\n",
              "// Unless required by applicable law or agreed to in writing, software\n",
              "// distributed under the License is distributed on an \"AS IS\" BASIS,\n",
              "// WITHOUT WARRANTIES OR CONDITIONS OF ANY KIND, either express or implied.\n",
              "// See the License for the specific language governing permissions and\n",
              "// limitations under the License.\n",
              "\n",
              "/**\n",
              " * @fileoverview Helpers for google.colab Python module.\n",
              " */\n",
              "(function(scope) {\n",
              "function span(text, styleAttributes = {}) {\n",
              "  const element = document.createElement('span');\n",
              "  element.textContent = text;\n",
              "  for (const key of Object.keys(styleAttributes)) {\n",
              "    element.style[key] = styleAttributes[key];\n",
              "  }\n",
              "  return element;\n",
              "}\n",
              "\n",
              "// Max number of bytes which will be uploaded at a time.\n",
              "const MAX_PAYLOAD_SIZE = 100 * 1024;\n",
              "\n",
              "function _uploadFiles(inputId, outputId) {\n",
              "  const steps = uploadFilesStep(inputId, outputId);\n",
              "  const outputElement = document.getElementById(outputId);\n",
              "  // Cache steps on the outputElement to make it available for the next call\n",
              "  // to uploadFilesContinue from Python.\n",
              "  outputElement.steps = steps;\n",
              "\n",
              "  return _uploadFilesContinue(outputId);\n",
              "}\n",
              "\n",
              "// This is roughly an async generator (not supported in the browser yet),\n",
              "// where there are multiple asynchronous steps and the Python side is going\n",
              "// to poll for completion of each step.\n",
              "// This uses a Promise to block the python side on completion of each step,\n",
              "// then passes the result of the previous step as the input to the next step.\n",
              "function _uploadFilesContinue(outputId) {\n",
              "  const outputElement = document.getElementById(outputId);\n",
              "  const steps = outputElement.steps;\n",
              "\n",
              "  const next = steps.next(outputElement.lastPromiseValue);\n",
              "  return Promise.resolve(next.value.promise).then((value) => {\n",
              "    // Cache the last promise value to make it available to the next\n",
              "    // step of the generator.\n",
              "    outputElement.lastPromiseValue = value;\n",
              "    return next.value.response;\n",
              "  });\n",
              "}\n",
              "\n",
              "/**\n",
              " * Generator function which is called between each async step of the upload\n",
              " * process.\n",
              " * @param {string} inputId Element ID of the input file picker element.\n",
              " * @param {string} outputId Element ID of the output display.\n",
              " * @return {!Iterable<!Object>} Iterable of next steps.\n",
              " */\n",
              "function* uploadFilesStep(inputId, outputId) {\n",
              "  const inputElement = document.getElementById(inputId);\n",
              "  inputElement.disabled = false;\n",
              "\n",
              "  const outputElement = document.getElementById(outputId);\n",
              "  outputElement.innerHTML = '';\n",
              "\n",
              "  const pickedPromise = new Promise((resolve) => {\n",
              "    inputElement.addEventListener('change', (e) => {\n",
              "      resolve(e.target.files);\n",
              "    });\n",
              "  });\n",
              "\n",
              "  const cancel = document.createElement('button');\n",
              "  inputElement.parentElement.appendChild(cancel);\n",
              "  cancel.textContent = 'Cancel upload';\n",
              "  const cancelPromise = new Promise((resolve) => {\n",
              "    cancel.onclick = () => {\n",
              "      resolve(null);\n",
              "    };\n",
              "  });\n",
              "\n",
              "  // Wait for the user to pick the files.\n",
              "  const files = yield {\n",
              "    promise: Promise.race([pickedPromise, cancelPromise]),\n",
              "    response: {\n",
              "      action: 'starting',\n",
              "    }\n",
              "  };\n",
              "\n",
              "  cancel.remove();\n",
              "\n",
              "  // Disable the input element since further picks are not allowed.\n",
              "  inputElement.disabled = true;\n",
              "\n",
              "  if (!files) {\n",
              "    return {\n",
              "      response: {\n",
              "        action: 'complete',\n",
              "      }\n",
              "    };\n",
              "  }\n",
              "\n",
              "  for (const file of files) {\n",
              "    const li = document.createElement('li');\n",
              "    li.append(span(file.name, {fontWeight: 'bold'}));\n",
              "    li.append(span(\n",
              "        `(${file.type || 'n/a'}) - ${file.size} bytes, ` +\n",
              "        `last modified: ${\n",
              "            file.lastModifiedDate ? file.lastModifiedDate.toLocaleDateString() :\n",
              "                                    'n/a'} - `));\n",
              "    const percent = span('0% done');\n",
              "    li.appendChild(percent);\n",
              "\n",
              "    outputElement.appendChild(li);\n",
              "\n",
              "    const fileDataPromise = new Promise((resolve) => {\n",
              "      const reader = new FileReader();\n",
              "      reader.onload = (e) => {\n",
              "        resolve(e.target.result);\n",
              "      };\n",
              "      reader.readAsArrayBuffer(file);\n",
              "    });\n",
              "    // Wait for the data to be ready.\n",
              "    let fileData = yield {\n",
              "      promise: fileDataPromise,\n",
              "      response: {\n",
              "        action: 'continue',\n",
              "      }\n",
              "    };\n",
              "\n",
              "    // Use a chunked sending to avoid message size limits. See b/62115660.\n",
              "    let position = 0;\n",
              "    do {\n",
              "      const length = Math.min(fileData.byteLength - position, MAX_PAYLOAD_SIZE);\n",
              "      const chunk = new Uint8Array(fileData, position, length);\n",
              "      position += length;\n",
              "\n",
              "      const base64 = btoa(String.fromCharCode.apply(null, chunk));\n",
              "      yield {\n",
              "        response: {\n",
              "          action: 'append',\n",
              "          file: file.name,\n",
              "          data: base64,\n",
              "        },\n",
              "      };\n",
              "\n",
              "      let percentDone = fileData.byteLength === 0 ?\n",
              "          100 :\n",
              "          Math.round((position / fileData.byteLength) * 100);\n",
              "      percent.textContent = `${percentDone}% done`;\n",
              "\n",
              "    } while (position < fileData.byteLength);\n",
              "  }\n",
              "\n",
              "  // All done.\n",
              "  yield {\n",
              "    response: {\n",
              "      action: 'complete',\n",
              "    }\n",
              "  };\n",
              "}\n",
              "\n",
              "scope.google = scope.google || {};\n",
              "scope.google.colab = scope.google.colab || {};\n",
              "scope.google.colab._files = {\n",
              "  _uploadFiles,\n",
              "  _uploadFilesContinue,\n",
              "};\n",
              "})(self);\n",
              "</script> "
            ]
          },
          "metadata": {}
        },
        {
          "output_type": "stream",
          "name": "stdout",
          "text": [
            "Saving kaggle.json to kaggle.json\n",
            "User uploaded file \"kaggle.json\" with length 63 bytes\n"
          ]
        }
      ]
    },
    {
      "cell_type": "code",
      "source": [
        "!kaggle datasets download -d sachinkumar413/alzheimer-mri-dataset"
      ],
      "metadata": {
        "colab": {
          "base_uri": "https://localhost:8080/"
        },
        "id": "2EnyKPyk0gZo",
        "outputId": "31ce131d-e941-48c0-946e-d5b95e1c3f79"
      },
      "id": "2EnyKPyk0gZo",
      "execution_count": null,
      "outputs": [
        {
          "output_type": "stream",
          "name": "stdout",
          "text": [
            "Downloading alzheimer-mri-dataset.zip to /content\n",
            " 61% 17.0M/28.0M [00:00<00:00, 67.3MB/s]\n",
            "100% 28.0M/28.0M [00:00<00:00, 88.8MB/s]\n"
          ]
        }
      ]
    },
    {
      "cell_type": "code",
      "source": [
        "!unzip /content/alzheimer-mri-dataset.zip"
      ],
      "metadata": {
        "id": "FCTtZ2Hmpjnf"
      },
      "id": "FCTtZ2Hmpjnf",
      "execution_count": null,
      "outputs": []
    },
    {
      "cell_type": "code",
      "execution_count": null,
      "id": "41ebdeb3",
      "metadata": {
        "execution": {
          "iopub.execute_input": "2022-11-05T09:49:16.476597Z",
          "iopub.status.busy": "2022-11-05T09:49:16.476228Z",
          "iopub.status.idle": "2022-11-05T09:49:22.944484Z",
          "shell.execute_reply": "2022-11-05T09:49:22.943703Z"
        },
        "papermill": {
          "duration": 6.48507,
          "end_time": "2022-11-05T09:49:22.946648",
          "exception": false,
          "start_time": "2022-11-05T09:49:16.461578",
          "status": "completed"
        },
        "tags": [],
        "colab": {
          "base_uri": "https://localhost:8080/"
        },
        "id": "41ebdeb3",
        "outputId": "bd6882df-a752-476b-9325-0c18f9bbf290"
      },
      "outputs": [
        {
          "output_type": "stream",
          "name": "stdout",
          "text": [
            "['Mild_Demented', 'Very_Mild_Demented', 'Moderate_Demented', 'Non_Demented']\n",
            "TensorFlow Version: 2.13.0\n"
          ]
        }
      ],
      "source": [
        "import pandas as pd\n",
        "import numpy as np\n",
        "import seaborn as sns\n",
        "import matplotlib.pyplot as plt\n",
        "import matplotlib.image as img\n",
        "\n",
        "import cv2\n",
        "import itertools\n",
        "import pathlib\n",
        "import warnings\n",
        "from PIL import Image\n",
        "from random import randint\n",
        "warnings.filterwarnings('ignore')\n",
        "\n",
        "from imblearn.over_sampling import SMOTE\n",
        "from sklearn.model_selection import train_test_split\n",
        "from sklearn.metrics import matthews_corrcoef as MCC\n",
        "from sklearn.metrics import balanced_accuracy_score as BAS\n",
        "from sklearn.metrics import classification_report, confusion_matrix\n",
        "\n",
        "\n",
        "from tensorflow import keras\n",
        "from keras import layers\n",
        "import tensorflow as tf\n",
        "# import tensorflow_addons as tfa\n",
        "from tensorflow.keras.preprocessing import image_dataset_from_directory\n",
        "# from tensorflow.keras.utils.vis_utils import plot_model\n",
        "from tensorflow.keras import Sequential, Input\n",
        "from tensorflow.keras.layers import Dense, Dropout\n",
        "from tensorflow.keras.layers import Conv2D, Flatten\n",
        "from tensorflow.keras.callbacks import ReduceLROnPlateau\n",
        "from tensorflow.keras.applications.inception_v3 import InceptionV3\n",
        "from tensorflow.keras.preprocessing.image import ImageDataGenerator as IDG\n",
        "from tensorflow.keras.layers import SeparableConv2D, BatchNormalization, GlobalAveragePooling2D\n",
        "\n",
        "from distutils.dir_util import copy_tree, remove_tree\n",
        "\n",
        "import os\n",
        "print(os.listdir(\"/content/Dataset\"))\n",
        "\n",
        "print(\"TensorFlow Version:\", tf.__version__)"
      ]
    },
    {
      "cell_type": "code",
      "execution_count": null,
      "id": "71ad1263",
      "metadata": {
        "execution": {
          "iopub.execute_input": "2022-11-05T09:49:22.972110Z",
          "iopub.status.busy": "2022-11-05T09:49:22.971534Z",
          "iopub.status.idle": "2022-11-05T09:50:21.051064Z",
          "shell.execute_reply": "2022-11-05T09:50:21.049424Z"
        },
        "papermill": {
          "duration": 58.093878,
          "end_time": "2022-11-05T09:50:21.052958",
          "exception": false,
          "start_time": "2022-11-05T09:49:22.959080",
          "status": "completed"
        },
        "tags": [],
        "colab": {
          "base_uri": "https://localhost:8080/"
        },
        "id": "71ad1263",
        "outputId": "b1fb95a2-169d-487b-9b71-e934181ac7b7"
      },
      "outputs": [
        {
          "output_type": "stream",
          "name": "stdout",
          "text": [
            "Requirement already satisfied: split-folders in /usr/local/lib/python3.10/dist-packages (0.5.1)\n"
          ]
        },
        {
          "output_type": "stream",
          "name": "stderr",
          "text": [
            "Copying files: 6400 files [00:00, 6980.21 files/s]\n"
          ]
        }
      ],
      "source": [
        "!pip install split-folders\n",
        "import splitfolders\n",
        "splitfolders.ratio('/content/Dataset', output=\"output\", seed=1345, ratio=(.8, 0.1,0.1))"
      ]
    },
    {
      "cell_type": "code",
      "execution_count": null,
      "id": "cb782d23",
      "metadata": {
        "execution": {
          "iopub.execute_input": "2022-11-05T09:50:21.270553Z",
          "iopub.status.busy": "2022-11-05T09:50:21.269666Z",
          "iopub.status.idle": "2022-11-05T09:50:24.669574Z",
          "shell.execute_reply": "2022-11-05T09:50:24.668907Z"
        },
        "papermill": {
          "duration": 3.510636,
          "end_time": "2022-11-05T09:50:24.671448",
          "exception": false,
          "start_time": "2022-11-05T09:50:21.160812",
          "status": "completed"
        },
        "tags": [],
        "colab": {
          "base_uri": "https://localhost:8080/"
        },
        "id": "cb782d23",
        "outputId": "d342be45-b953-467b-9583-22dbae378e9d"
      },
      "outputs": [
        {
          "output_type": "stream",
          "name": "stdout",
          "text": [
            "Found 5119 files belonging to 4 classes.\n",
            "Found 642 files belonging to 4 classes.\n",
            "Found 639 files belonging to 4 classes.\n"
          ]
        }
      ],
      "source": [
        "IMG_HEIGHT = 128\n",
        "IMG_WIDTH = 128\n",
        "train_ds = tf.keras.preprocessing.image_dataset_from_directory(\n",
        "\"./output/train\",\n",
        "seed=123,\n",
        "image_size=(IMG_HEIGHT, IMG_WIDTH),\n",
        "batch_size=64\n",
        ")\n",
        "\n",
        "test_ds = tf.keras.preprocessing.image_dataset_from_directory(\n",
        "\"./output/test\",\n",
        "seed=123,\n",
        "image_size=(IMG_HEIGHT, IMG_WIDTH),\n",
        "batch_size=64\n",
        ")\n",
        "\n",
        "val_ds = tf.keras.preprocessing.image_dataset_from_directory(\n",
        "\"./output/val\",\n",
        "seed=123,\n",
        "image_size=(IMG_HEIGHT, IMG_WIDTH),\n",
        "batch_size=64\n",
        ")"
      ]
    },
    {
      "cell_type": "code",
      "execution_count": null,
      "id": "6ec1f5fc",
      "metadata": {
        "execution": {
          "iopub.execute_input": "2022-11-05T09:50:24.886041Z",
          "iopub.status.busy": "2022-11-05T09:50:24.885801Z",
          "iopub.status.idle": "2022-11-05T09:50:24.895456Z",
          "shell.execute_reply": "2022-11-05T09:50:24.894639Z"
        },
        "papermill": {
          "duration": 0.120291,
          "end_time": "2022-11-05T09:50:24.899225",
          "exception": false,
          "start_time": "2022-11-05T09:50:24.778934",
          "status": "completed"
        },
        "tags": [],
        "colab": {
          "base_uri": "https://localhost:8080/"
        },
        "id": "6ec1f5fc",
        "outputId": "c11105aa-d461-434d-ff7e-ab62b110e268"
      },
      "outputs": [
        {
          "output_type": "stream",
          "name": "stdout",
          "text": [
            "['Mild_Demented', 'Moderate_Demented', 'Non_Demented', 'Very_Mild_Demented']\n"
          ]
        },
        {
          "output_type": "execute_result",
          "data": {
            "text/plain": [
              "<_BatchDataset element_spec=(TensorSpec(shape=(None, 128, 128, 3), dtype=tf.float32, name=None), TensorSpec(shape=(None,), dtype=tf.int32, name=None))>"
            ]
          },
          "metadata": {},
          "execution_count": 20
        }
      ],
      "source": [
        "class_names = train_ds.class_names\n",
        "print(class_names)\n",
        "train_ds"
      ]
    },
    {
      "cell_type": "code",
      "execution_count": null,
      "id": "5d292619",
      "metadata": {
        "execution": {
          "iopub.execute_input": "2022-11-05T09:50:25.116279Z",
          "iopub.status.busy": "2022-11-05T09:50:25.115612Z",
          "iopub.status.idle": "2022-11-05T09:50:26.162926Z",
          "shell.execute_reply": "2022-11-05T09:50:26.162321Z"
        },
        "papermill": {
          "duration": 1.160408,
          "end_time": "2022-11-05T09:50:26.167219",
          "exception": false,
          "start_time": "2022-11-05T09:50:25.006811",
          "status": "completed"
        },
        "tags": [],
        "id": "5d292619"
      },
      "outputs": [],
      "source": [
        "plt.figure(figsize=(10, 10))\n",
        "for images, labels in train_ds.take(1):\n",
        "    for i in range(9):\n",
        "        ax = plt.subplot(3, 3, i + 1)\n",
        "        plt.imshow(images[i].numpy().astype(\"uint8\"))\n",
        "        plt.title(class_names[labels[i]])\n",
        "        plt.axis(\"off\")"
      ]
    },
    {
      "cell_type": "code",
      "execution_count": null,
      "id": "8b0d8e51",
      "metadata": {
        "execution": {
          "iopub.execute_input": "2022-11-05T09:50:26.394707Z",
          "iopub.status.busy": "2022-11-05T09:50:26.394463Z",
          "iopub.status.idle": "2022-11-05T09:50:26.571439Z",
          "shell.execute_reply": "2022-11-05T09:50:26.570906Z"
        },
        "papermill": {
          "duration": 0.293193,
          "end_time": "2022-11-05T09:50:26.573144",
          "exception": false,
          "start_time": "2022-11-05T09:50:26.279951",
          "status": "completed"
        },
        "tags": [],
        "id": "8b0d8e51"
      },
      "outputs": [],
      "source": [
        "fig = plt.figure()\n",
        "ax = fig.add_axes([0,0,1,1])\n",
        "size = [896,64,3200,2240]\n",
        "ax.bar(class_names,size)\n",
        "plt.show"
      ]
    },
    {
      "cell_type": "code",
      "execution_count": null,
      "id": "9aec3382",
      "metadata": {
        "execution": {
          "iopub.execute_input": "2022-11-05T09:50:26.808482Z",
          "iopub.status.busy": "2022-11-05T09:50:26.807647Z",
          "iopub.status.idle": "2022-11-05T09:50:27.124609Z",
          "shell.execute_reply": "2022-11-05T09:50:27.123912Z"
        },
        "papermill": {
          "duration": 0.437196,
          "end_time": "2022-11-05T09:50:27.126598",
          "exception": false,
          "start_time": "2022-11-05T09:50:26.689402",
          "status": "completed"
        },
        "tags": [],
        "id": "9aec3382"
      },
      "outputs": [],
      "source": [
        "model = keras.models.Sequential()\n",
        "model.add(keras.layers.experimental.preprocessing.Rescaling(1./255, input_shape=(IMG_HEIGHT,IMG_WIDTH, 3)))\n",
        "model.add(keras.layers.Conv2D(filters=16,kernel_size=(3,3),padding='same',activation='relu',kernel_initializer=\"he_normal\"))\n",
        "model.add(keras.layers.MaxPooling2D(pool_size=(2,2)))\n",
        "\n",
        "\n",
        "model.add(keras.layers.Conv2D(filters=32,kernel_size=(3,3),padding='same',activation='relu',kernel_initializer=\"he_normal\"))\n",
        "model.add(keras.layers.MaxPooling2D(pool_size=(2,2)))\n",
        "\n",
        "model.add(keras.layers.Dropout(0.20))\n",
        "\n",
        "model.add(keras.layers.Conv2D(filters=64,kernel_size=(3,3),padding='same',activation='relu',kernel_initializer=\"he_normal\"))\n",
        "model.add(keras.layers.MaxPooling2D(pool_size=(2,2)))\n",
        "\n",
        "model.add(keras.layers.Dropout(0.25))\n",
        "model.add(keras.layers.Flatten())\n",
        "model.add(keras.layers.Dense(128,activation=\"relu\",kernel_initializer=\"he_normal\"))\n",
        "model.add(keras.layers.Dense(64,\"relu\"))\n",
        "model.add(keras.layers.Dense(4,\"softmax\"))"
      ]
    },
    {
      "cell_type": "code",
      "execution_count": null,
      "id": "664f02b2",
      "metadata": {
        "execution": {
          "iopub.execute_input": "2022-11-05T09:50:27.368843Z",
          "iopub.status.busy": "2022-11-05T09:50:27.368595Z",
          "iopub.status.idle": "2022-11-05T09:50:27.380723Z",
          "shell.execute_reply": "2022-11-05T09:50:27.380088Z"
        },
        "papermill": {
          "duration": 0.135891,
          "end_time": "2022-11-05T09:50:27.382850",
          "exception": false,
          "start_time": "2022-11-05T09:50:27.246959",
          "status": "completed"
        },
        "tags": [],
        "id": "664f02b2"
      },
      "outputs": [],
      "source": [
        "model.compile(loss=\"sparse_categorical_crossentropy\",\n",
        "              optimizer = \"Adam\",metrics=[\"accuracy\"])"
      ]
    },
    {
      "cell_type": "code",
      "execution_count": null,
      "id": "b56e92cc",
      "metadata": {
        "execution": {
          "iopub.execute_input": "2022-11-05T09:50:27.624279Z",
          "iopub.status.busy": "2022-11-05T09:50:27.624024Z",
          "iopub.status.idle": "2022-11-05T09:50:27.635181Z",
          "shell.execute_reply": "2022-11-05T09:50:27.634186Z"
        },
        "papermill": {
          "duration": 0.129075,
          "end_time": "2022-11-05T09:50:27.637748",
          "exception": false,
          "start_time": "2022-11-05T09:50:27.508673",
          "status": "completed"
        },
        "tags": [],
        "colab": {
          "base_uri": "https://localhost:8080/"
        },
        "id": "b56e92cc",
        "outputId": "42efd535-02d4-47fb-bf31-deeaf2e782af"
      },
      "outputs": [
        {
          "output_type": "stream",
          "name": "stdout",
          "text": [
            "Model: \"sequential\"\n",
            "_________________________________________________________________\n",
            " Layer (type)                Output Shape              Param #   \n",
            "=================================================================\n",
            " rescaling (Rescaling)       (None, 128, 128, 3)       0         \n",
            "                                                                 \n",
            " conv2d (Conv2D)             (None, 128, 128, 16)      448       \n",
            "                                                                 \n",
            " max_pooling2d (MaxPooling2  (None, 64, 64, 16)        0         \n",
            " D)                                                              \n",
            "                                                                 \n",
            " conv2d_1 (Conv2D)           (None, 64, 64, 32)        4640      \n",
            "                                                                 \n",
            " max_pooling2d_1 (MaxPoolin  (None, 32, 32, 32)        0         \n",
            " g2D)                                                            \n",
            "                                                                 \n",
            " dropout (Dropout)           (None, 32, 32, 32)        0         \n",
            "                                                                 \n",
            " conv2d_2 (Conv2D)           (None, 32, 32, 64)        18496     \n",
            "                                                                 \n",
            " max_pooling2d_2 (MaxPoolin  (None, 16, 16, 64)        0         \n",
            " g2D)                                                            \n",
            "                                                                 \n",
            " dropout_1 (Dropout)         (None, 16, 16, 64)        0         \n",
            "                                                                 \n",
            " flatten (Flatten)           (None, 16384)             0         \n",
            "                                                                 \n",
            " dense (Dense)               (None, 128)               2097280   \n",
            "                                                                 \n",
            " dense_1 (Dense)             (None, 64)                8256      \n",
            "                                                                 \n",
            " dense_2 (Dense)             (None, 4)                 260       \n",
            "                                                                 \n",
            "=================================================================\n",
            "Total params: 2129380 (8.12 MB)\n",
            "Trainable params: 2129380 (8.12 MB)\n",
            "Non-trainable params: 0 (0.00 Byte)\n",
            "_________________________________________________________________\n"
          ]
        }
      ],
      "source": [
        "model.summary()"
      ]
    },
    {
      "cell_type": "code",
      "execution_count": null,
      "id": "f7e7f522",
      "metadata": {
        "execution": {
          "iopub.execute_input": "2022-11-05T09:50:27.881139Z",
          "iopub.status.busy": "2022-11-05T09:50:27.880875Z",
          "iopub.status.idle": "2022-11-05T09:54:34.991501Z",
          "shell.execute_reply": "2022-11-05T09:54:34.990599Z"
        },
        "papermill": {
          "duration": 247.227839,
          "end_time": "2022-11-05T09:54:34.993892",
          "exception": false,
          "start_time": "2022-11-05T09:50:27.766053",
          "status": "completed"
        },
        "tags": [],
        "colab": {
          "base_uri": "https://localhost:8080/"
        },
        "id": "f7e7f522",
        "outputId": "acfe7651-8fe1-4f68-845e-0751046cdfa7"
      },
      "outputs": [
        {
          "output_type": "stream",
          "name": "stdout",
          "text": [
            "Epoch 1/10\n",
            "80/80 [==============================] - 91s 1s/step - loss: 0.5772 - accuracy: 0.7529 - val_loss: 0.5197 - val_accuracy: 0.7746\n",
            "Epoch 2/10\n",
            "80/80 [==============================] - 91s 1s/step - loss: 0.4981 - accuracy: 0.7904 - val_loss: 0.4307 - val_accuracy: 0.8263\n",
            "Epoch 3/10\n",
            "80/80 [==============================] - 91s 1s/step - loss: 0.3700 - accuracy: 0.8519 - val_loss: 0.3083 - val_accuracy: 0.8779\n",
            "Epoch 4/10\n",
            "80/80 [==============================] - 94s 1s/step - loss: 0.3091 - accuracy: 0.8795 - val_loss: 0.3007 - val_accuracy: 0.8889\n",
            "Epoch 5/10\n",
            "80/80 [==============================] - 91s 1s/step - loss: 0.2368 - accuracy: 0.9109 - val_loss: 0.1733 - val_accuracy: 0.9515\n",
            "Epoch 6/10\n",
            "80/80 [==============================] - 90s 1s/step - loss: 0.1945 - accuracy: 0.9271 - val_loss: 0.1535 - val_accuracy: 0.9577\n",
            "Epoch 7/10\n",
            "80/80 [==============================] - 91s 1s/step - loss: 0.1746 - accuracy: 0.9322 - val_loss: 0.1279 - val_accuracy: 0.9609\n",
            "Epoch 8/10\n",
            "80/80 [==============================] - 92s 1s/step - loss: 0.1473 - accuracy: 0.9486 - val_loss: 0.0950 - val_accuracy: 0.9718\n",
            "Epoch 9/10\n",
            "80/80 [==============================] - 92s 1s/step - loss: 0.1330 - accuracy: 0.9535 - val_loss: 0.0851 - val_accuracy: 0.9781\n",
            "Epoch 10/10\n",
            "80/80 [==============================] - 92s 1s/step - loss: 0.1027 - accuracy: 0.9656 - val_loss: 0.0534 - val_accuracy: 0.9812\n"
          ]
        }
      ],
      "source": [
        "hist = model.fit(train_ds,validation_data=val_ds,epochs=10, batch_size=64, verbose=1)"
      ]
    },
    {
      "cell_type": "code",
      "execution_count": null,
      "id": "8cbb2398",
      "metadata": {
        "execution": {
          "iopub.execute_input": "2022-11-05T09:54:36.891875Z",
          "iopub.status.busy": "2022-11-05T09:54:36.891620Z",
          "iopub.status.idle": "2022-11-05T09:54:36.895702Z",
          "shell.execute_reply": "2022-11-05T09:54:36.895040Z"
        },
        "papermill": {
          "duration": 0.95352,
          "end_time": "2022-11-05T09:54:36.897410",
          "exception": false,
          "start_time": "2022-11-05T09:54:35.943890",
          "status": "completed"
        },
        "tags": [],
        "id": "8cbb2398"
      },
      "outputs": [],
      "source": [
        "get_ac = hist.history['accuracy']\n",
        "get_los = hist.history['loss']\n",
        "val_acc = hist.history['val_accuracy']\n",
        "val_loss = hist.history['val_loss']"
      ]
    },
    {
      "cell_type": "code",
      "execution_count": null,
      "id": "701377fd",
      "metadata": {
        "execution": {
          "iopub.execute_input": "2022-11-05T09:54:39.113443Z",
          "iopub.status.busy": "2022-11-05T09:54:39.113181Z",
          "iopub.status.idle": "2022-11-05T09:54:39.714931Z",
          "shell.execute_reply": "2022-11-05T09:54:39.714445Z"
        },
        "papermill": {
          "duration": 1.803296,
          "end_time": "2022-11-05T09:54:39.716707",
          "exception": false,
          "start_time": "2022-11-05T09:54:37.913411",
          "status": "completed"
        },
        "tags": [],
        "id": "701377fd"
      },
      "outputs": [],
      "source": [
        "epochs = range(len(get_ac))\n",
        "plt.plot(epochs, get_ac, 'g', label='Accuracy of Training data')\n",
        "plt.plot(epochs, get_los, 'r', label='Loss of Training data')\n",
        "plt.title('Training data accuracy and loss')\n",
        "plt.legend(loc=0)\n",
        "plt.figure()\n",
        "\n",
        "plt.plot(epochs, get_ac, 'g', label='Accuracy of Training Data')\n",
        "plt.plot(epochs, val_acc, 'r', label='Accuracy of Validation Data')\n",
        "plt.title('Training and Validation Accuracy')\n",
        "plt.legend(loc=0)\n",
        "plt.figure()\n",
        "\n",
        "plt.plot(epochs, get_los, 'g', label='Loss of Training Data')\n",
        "plt.plot(epochs, val_loss, 'r', label='Loss of Validation Data')\n",
        "plt.title('Training and Validation Loss')\n",
        "plt.legend(loc=0)\n",
        "plt.figure()\n",
        "plt.show()"
      ]
    },
    {
      "cell_type": "code",
      "execution_count": null,
      "id": "667b8684",
      "metadata": {
        "execution": {
          "iopub.execute_input": "2022-11-05T09:54:41.637104Z",
          "iopub.status.busy": "2022-11-05T09:54:41.636756Z",
          "iopub.status.idle": "2022-11-05T09:54:41.916126Z",
          "shell.execute_reply": "2022-11-05T09:54:41.915210Z"
        },
        "papermill": {
          "duration": 1.235888,
          "end_time": "2022-11-05T09:54:41.918354",
          "exception": false,
          "start_time": "2022-11-05T09:54:40.682466",
          "status": "completed"
        },
        "tags": [],
        "colab": {
          "base_uri": "https://localhost:8080/"
        },
        "id": "667b8684",
        "outputId": "97a4eab1-3ee9-44b3-e2dd-b0a827932e26"
      },
      "outputs": [
        {
          "output_type": "stream",
          "name": "stdout",
          "text": [
            "11/11 [==============================] - 3s 267ms/step - loss: 0.0778 - accuracy: 0.9720\n"
          ]
        }
      ],
      "source": [
        "loss, accuracy = model.evaluate(test_ds)"
      ]
    },
    {
      "cell_type": "code",
      "execution_count": null,
      "id": "253fbc9e",
      "metadata": {
        "execution": {
          "iopub.execute_input": "2022-11-05T09:54:43.831144Z",
          "iopub.status.busy": "2022-11-05T09:54:43.830870Z",
          "iopub.status.idle": "2022-11-05T09:54:46.702077Z",
          "shell.execute_reply": "2022-11-05T09:54:46.701450Z"
        },
        "papermill": {
          "duration": 3.832445,
          "end_time": "2022-11-05T09:54:46.711508",
          "exception": false,
          "start_time": "2022-11-05T09:54:42.879063",
          "status": "completed"
        },
        "tags": [],
        "id": "253fbc9e"
      },
      "outputs": [],
      "source": [
        "plt.figure(figsize=(20, 20))\n",
        "for images, labels in test_ds.take(1):\n",
        "    for i in range(16):\n",
        "        ax = plt.subplot(4, 4, i + 1)\n",
        "        plt.imshow(images[i].numpy().astype(\"uint8\"))\n",
        "        predictions = model.predict(tf.expand_dims(images[i], 0))\n",
        "        score = tf.nn.softmax(predictions[0])\n",
        "        if(class_names[labels[i]]==class_names[np.argmax(score)]):\n",
        "            plt.title(\"Actual: \"+class_names[labels[i]])\n",
        "            plt.ylabel(\"Predicted: \"+class_names[np.argmax(score)],fontdict={'color':'green'})\n",
        "\n",
        "        else:\n",
        "            plt.title(\"Actual: \"+class_names[labels[i]])\n",
        "            plt.ylabel(\"Predicted: \"+class_names[np.argmax(score)],fontdict={'color':'red'})\n",
        "        plt.gca().axes.yaxis.set_ticklabels([])\n",
        "        plt.gca().axes.xaxis.set_ticklabels([])"
      ]
    }
  ],
  "metadata": {
    "kernelspec": {
      "display_name": "Python 3",
      "language": "python",
      "name": "python3"
    },
    "language_info": {
      "codemirror_mode": {
        "name": "ipython",
        "version": 3
      },
      "file_extension": ".py",
      "mimetype": "text/x-python",
      "name": "python",
      "nbconvert_exporter": "python",
      "pygments_lexer": "ipython3",
      "version": "3.7.12"
    },
    "papermill": {
      "default_parameters": {},
      "duration": 341.701414,
      "end_time": "2022-11-05T09:54:50.574171",
      "environment_variables": {},
      "exception": null,
      "input_path": "__notebook__.ipynb",
      "output_path": "__notebook__.ipynb",
      "parameters": {},
      "start_time": "2022-11-05T09:49:08.872757",
      "version": "2.3.4"
    },
    "colab": {
      "provenance": []
    }
  },
  "nbformat": 4,
  "nbformat_minor": 5
}